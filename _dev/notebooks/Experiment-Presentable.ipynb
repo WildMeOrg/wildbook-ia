{
 "cells": [
  {
   "cell_type": "code",
   "execution_count": null,
   "metadata": {
    "collapsed": false,
    "scrolled": false
   },
   "outputs": [],
   "source": [
    "# Set global utool flags\n",
    "import utool as ut\n",
    "ut.util_io.__PRINT_WRITES__ = False\n",
    "ut.util_io.__PRINT_READS__ = False\n",
    "ut.util_parallel.__FORCE_SERIAL__ = True\n",
    "ut.util_cache.VERBOSE_CACHE = False\n",
    "ut.NOT_QUIET = False\n",
    "\n",
    "# Matplotlib stuff\n",
    "%pylab inline\n",
    "%load_ext autoreload\n",
    "%autoreload\n",
    "\n",
    "# Define database for this test run\n",
    "import wbia\n",
    "#db = 'PZ_Master1'\n",
    "#db = 'seals2'\n",
    "#db = 'GZ_ALL'\n",
    "#db = 'NNP_MasterGIRM_core'\n",
    "#db = 'turtles'\n",
    "#db = 'WS_Hard'\n",
    "db = 'WS_ALL'\n",
    "\n",
    "# Setup database specific configs\n",
    "ctrl = 'ctrl'\n",
    "unctrl = 'unctrl'\n",
    "a = ['ctrl']\n",
    "\n",
    "if db == 'PZ_MTEST' or db == 'GZ_ALL':\n",
    "    a = ['ctrl']\n",
    "elif db == 'PZ_Master1':\n",
    "    a = ['timectrl']\n",
    "elif db == 'WS_HARD':\n",
    "    pass\n",
    "elif db == 'WS_ALL':\n",
    "    ctrl = 'ctrl:been_adjusted=True'\n",
    "    a = [ctrl]\n",
    "\n",
    "if db == 'PZ_Master1':\n",
    "    varysize = ['varysize_pzm']\n",
    "    varypername = ['varypername_pzm']\n",
    "elif db == 'GZ_ALL':\n",
    "    varysize = ['varysize_gz']\n",
    "    varypername = ['varypername_gz']\n",
    "elif db == 'NNP_MasterGIRM_core':\n",
    "    varysize = ['varysize_girm']\n",
    "    varypername = ['varypername_girm']"
   ]
  },
  {
   "cell_type": "markdown",
   "metadata": {},
   "source": [
    "# Database Information"
   ]
  },
  {
   "cell_type": "code",
   "execution_count": null,
   "metadata": {
    "collapsed": false,
    "scrolled": true
   },
   "outputs": [],
   "source": [
    "import wbia\n",
    "ibs = wbia.opendb(db=db)\n",
    "wbia.other.dbinfo.show_image_time_distributions(ibs, ibs.get_valid_gids())"
   ]
  },
  {
   "cell_type": "code",
   "execution_count": null,
   "metadata": {
    "collapsed": false,
    "scrolled": true
   },
   "outputs": [],
   "source": [
    "_ = wbia.other.dbinfo.get_dbinfo(ibs)"
   ]
  },
  {
   "cell_type": "markdown",
   "metadata": {},
   "source": [
    "# Detection Summary"
   ]
  },
  {
   "cell_type": "code",
   "execution_count": null,
   "metadata": {
    "collapsed": false,
    "scrolled": true
   },
   "outputs": [],
   "source": [
    "# Get a sample of images\n",
    "gids = ibs.get_valid_gids()\n",
    "aids = ibs.get_image_aids(gids)\n",
    "nAids_list = list(map(len, aids))\n",
    "gids_sorted = ut.sortedby(gids, nAids_list)[::-1]\n",
    "samplex = list(range(5))\n",
    "print(samplex)\n",
    "gids_sample = ut.list_take(gids_sorted, samplex)\n",
    "\n",
    "import wbia.viz\n",
    "for gid in ut.ProgressIter(gids_sample, lbl='drawing image'):\n",
    "    wbia.viz.show_image(ibs, gid)"
   ]
  },
  {
   "cell_type": "markdown",
   "metadata": {},
   "source": [
    "# Identification Summary"
   ]
  },
  {
   "cell_type": "markdown",
   "metadata": {},
   "source": [
    "### Identification Accuracy\n",
    "The uncontrolled\n",
    "The baseline pipeline configuration is: "
   ]
  },
  {
   "cell_type": "code",
   "execution_count": null,
   "metadata": {
    "collapsed": false,
    "scrolled": false
   },
   "outputs": [],
   "source": [
    "a = ['unctrl', ctrl]\n",
    "if db in ['WS_ALL', 'WS_Hard']:\n",
    "    a = [ctrl]\n",
    "\n",
    "test_result = wbia.run_experiment(\n",
    "    e='rank_cdf', \n",
    "    db=db, \n",
    "    a=a, \n",
    "    t=['baseline'])\n",
    "#test_result.print_unique_annot_config_stats()\n",
    "_ = test_result.draw_func()"
   ]
  },
  {
   "cell_type": "markdown",
   "metadata": {},
   "source": [
    "### Distribution of Correct Matches (True Positives) over timedelta categories"
   ]
  },
  {
   "cell_type": "code",
   "execution_count": null,
   "metadata": {
    "collapsed": false
   },
   "outputs": [],
   "source": [
    "test_result = wbia.run_experiment(\n",
    "    e='timedelta_hist',\n",
    "    db=db, \n",
    "    a=a,\n",
    "    t=['baseline'],\n",
    "    truepos=True)\n",
    "test_result.draw_func()"
   ]
  },
  {
   "cell_type": "markdown",
   "metadata": {},
   "source": [
    "### Distribution of Incorrect Matches (False Positives) over timedelta categories"
   ]
  },
  {
   "cell_type": "code",
   "execution_count": null,
   "metadata": {
    "collapsed": false
   },
   "outputs": [],
   "source": [
    "# Baseline Timedeltas FP\n",
    "test_result = wbia.run_experiment(\n",
    "    e='timedelta_hist',\n",
    "    db=db, \n",
    "    a=a,\n",
    "    t=['baseline'],\n",
    "    falsepos=True)\n",
    "test_result.draw_func()"
   ]
  },
  {
   "cell_type": "markdown",
   "metadata": {
    "slideshow": {
     "slide_type": "slide"
    }
   },
   "source": [
    "# Identification using different pipeline configuration\n",
    "This test varies the feature invariance used in the identification algorithm\n"
   ]
  },
  {
   "cell_type": "code",
   "execution_count": null,
   "metadata": {
    "collapsed": false,
    "scrolled": false,
    "slideshow": {
     "slide_type": "skip"
    }
   },
   "outputs": [],
   "source": [
    "test_result = wbia.run_experiment(\n",
    "    e='rank_cdf',\n",
    "    db=db, \n",
    "    a=['ctrl'], \n",
    "    t=['invar4'])\n",
    "test_result.draw_func()"
   ]
  },
  {
   "cell_type": "markdown",
   "metadata": {
    "collapsed": true
   },
   "source": [
    "# Score Separability Experiments\n",
    "These plots show the distribution of identification scores for groundtrue (correct) and groundfalse (incorrect) matches"
   ]
  },
  {
   "cell_type": "code",
   "execution_count": null,
   "metadata": {
    "collapsed": true
   },
   "outputs": [],
   "source": [
    "a = a\n",
    "t = ['best']"
   ]
  },
  {
   "cell_type": "markdown",
   "metadata": {},
   "source": [
    "## Scores of Success Cases"
   ]
  },
  {
   "cell_type": "code",
   "execution_count": null,
   "metadata": {
    "collapsed": false,
    "scrolled": false
   },
   "outputs": [],
   "source": [
    "test_result = wbia.run_experiment(\n",
    "    e='scores',\n",
    "    db=db, \n",
    "    a=a, \n",
    "    t=t,\n",
    "    f=[':fail=False,min_gf_timedelta=None'],\n",
    ")\n",
    "_ = test_result.draw_func()"
   ]
  },
  {
   "cell_type": "markdown",
   "metadata": {},
   "source": [
    "## Scores of All Cases"
   ]
  },
  {
   "cell_type": "code",
   "execution_count": null,
   "metadata": {
    "collapsed": false
   },
   "outputs": [],
   "source": [
    "# Score Seperability with NO FILTERING\n",
    "test_result = wbia.run_experiment(\n",
    "    e='scores',\n",
    "    db=db, \n",
    "    a=a, \n",
    "    t=t,\n",
    "    f=[':fail=None,min_gf_timedelta=None']\n",
    ")\n",
    "_ = test_result.draw_func()"
   ]
  },
  {
   "cell_type": "markdown",
   "metadata": {},
   "source": [
    "------------------"
   ]
  },
  {
   "cell_type": "markdown",
   "metadata": {},
   "source": [
    "# Individual Results \n",
    "* Higher scores are on the Left\n",
    "* Groundtrue matches have a green border"
   ]
  },
  {
   "cell_type": "code",
   "execution_count": null,
   "metadata": {
    "collapsed": true
   },
   "outputs": [],
   "source": [
    "t = ['best']\n",
    "a = a\n",
    "draw_case_kw = dict(show_in_notebook=True, annot_modes=[0, 1])"
   ]
  },
  {
   "cell_type": "markdown",
   "metadata": {},
   "source": [
    "### Highest Scoring Success Cases"
   ]
  },
  {
   "cell_type": "code",
   "execution_count": null,
   "metadata": {
    "collapsed": false,
    "scrolled": false
   },
   "outputs": [],
   "source": [
    "test_result = wbia.run_experiment(\n",
    "    e='draw_cases',\n",
    "    db=db, \n",
    "    a=a, \n",
    "    t=t,\n",
    "    f=[':fail=False,min_gf_timedelta=12h,index=0:3,sortdsc=gtscore,without_gf_tag=Photobomb'],\n",
    "    **draw_case_kw)\n",
    "_ = test_result.draw_func()"
   ]
  },
  {
   "cell_type": "markdown",
   "metadata": {},
   "source": [
    "### Failure Cases (sorted by groundtrue score)"
   ]
  },
  {
   "cell_type": "code",
   "execution_count": null,
   "metadata": {
    "collapsed": false,
    "scrolled": false
   },
   "outputs": [],
   "source": [
    "test_result = wbia.run_experiment(\n",
    "    e='draw_cases',\n",
    "    db=db, \n",
    "    a=a, \n",
    "    t=t,\n",
    "    f=[':fail=True,min_gf_timedelta=12h,index=0:3,sortdsc=gtscore'],\n",
    "    **draw_case_kw)\n",
    "_ = test_result.draw_func()"
   ]
  },
  {
   "cell_type": "markdown",
   "metadata": {},
   "source": [
    "### Failure Cases (sorted by groundfalse score) "
   ]
  },
  {
   "cell_type": "code",
   "execution_count": null,
   "metadata": {
    "collapsed": false,
    "scrolled": false
   },
   "outputs": [],
   "source": [
    "test_result = wbia.run_experiment(\n",
    "    e='draw_cases',\n",
    "    db=db, \n",
    "    a=a, \n",
    "    t=t,\n",
    "    f=[':fail=True,min_gf_timedelta=12h,index=0:3,sortdsc=gfscore'],\n",
    "    **draw_case_kw)\n",
    "_ = test_result.draw_func()"
   ]
  },
  {
   "cell_type": "code",
   "execution_count": null,
   "metadata": {
    "collapsed": true
   },
   "outputs": [],
   "source": []
  }
 ],
 "metadata": {
  "kernelspec": {
   "display_name": "Python 2",
   "language": "python",
   "name": "python2"
  },
  "language_info": {
   "codemirror_mode": {
    "name": "ipython",
    "version": 2
   },
   "file_extension": ".py",
   "mimetype": "text/x-python",
   "name": "python",
   "nbconvert_exporter": "python",
   "pygments_lexer": "ipython2",
   "version": "2.7.6"
  }
 },
 "nbformat": 4,
 "nbformat_minor": 0
}
